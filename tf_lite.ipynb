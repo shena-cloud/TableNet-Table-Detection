{
  "nbformat": 4,
  "nbformat_minor": 0,
  "metadata": {
    "colab": {
      "name": "tf_lite.ipynb",
      "provenance": [],
      "collapsed_sections": []
    },
    "kernelspec": {
      "name": "python3",
      "display_name": "Python 3"
    },
    "language_info": {
      "name": "python"
    },
    "accelerator": "GPU"
  },
  "cells": [
    {
      "cell_type": "code",
      "metadata": {
        "id": "HKyONFstUF5J"
      },
      "source": [
        "import os\n",
        "import glob\n",
        "#from glob import glob\n",
        "import matplotlib.pyplot as plt\n",
        "from PIL import Image\n",
        "import numpy as np\n",
        "import pandas as pd\n",
        "from tqdm import tqdm\n",
        "import xml.etree.ElementTree as ET\n",
        "import tensorflow as tf\n",
        "from keras.models import load_model\n",
        "import cv2"
      ],
      "execution_count": null,
      "outputs": []
    },
    {
      "cell_type": "code",
      "metadata": {
        "id": "i_M1qFIEUU1A"
      },
      "source": [
        "! apt install tesseract-ocr\n",
        "! apt install libtesseract-dev"
      ],
      "execution_count": null,
      "outputs": []
    },
    {
      "cell_type": "code",
      "metadata": {
        "id": "fm7lCOYkUWrR"
      },
      "source": [
        "! pip install Pillow\n",
        "! pip install pytesseract"
      ],
      "execution_count": null,
      "outputs": []
    },
    {
      "cell_type": "code",
      "metadata": {
        "id": "KXFfVJtoUbhR",
        "colab": {
          "base_uri": "https://localhost:8080/"
        },
        "outputId": "1cb236ba-8292-4f0b-d0d7-afbcc8f53071"
      },
      "source": [
        "!sudo apt install tesseract-ocr"
      ],
      "execution_count": null,
      "outputs": [
        {
          "output_type": "stream",
          "text": [
            "Reading package lists... Done\n",
            "Building dependency tree       \n",
            "Reading state information... Done\n",
            "tesseract-ocr is already the newest version (4.00~git2288-10f4998a-2).\n",
            "0 upgraded, 0 newly installed, 0 to remove and 39 not upgraded.\n"
          ],
          "name": "stdout"
        }
      ]
    },
    {
      "cell_type": "code",
      "metadata": {
        "id": "yZbklHlBUek7"
      },
      "source": [
        "import pytesseract\n",
        "from PIL import ImageEnhance, ImageFilter, Image"
      ],
      "execution_count": null,
      "outputs": []
    },
    {
      "cell_type": "code",
      "metadata": {
        "id": "hKPi-fRuUhMZ"
      },
      "source": [
        "pytesseract.pytesseract.tesseract_cmd = r'/usr/bin/tesseract'"
      ],
      "execution_count": null,
      "outputs": []
    },
    {
      "cell_type": "code",
      "metadata": {
        "colab": {
          "base_uri": "https://localhost:8080/"
        },
        "id": "vbdzLDqpUjH1",
        "outputId": "0844c790-f43b-4e85-8643-23c242ca6d99"
      },
      "source": [
        "!wget --header=\"Host: doc-0o-3o-docs.googleusercontent.com\" --header=\"User-Agent: Mozilla/5.0 (Windows NT 10.0; Win64; x64) AppleWebKit/537.36 (KHTML, like Gecko) Chrome/91.0.4472.114 Safari/537.36\" --header=\"Accept: text/html,application/xhtml+xml,application/xml;q=0.9,image/avif,image/webp,image/apng,*/*;q=0.8,application/signed-exchange;v=b3;q=0.9\" --header=\"Accept-Language: en-US,en;q=0.9\" --header=\"Cookie: AUTH_sdg3i7v4ri7e38pdfprsctq13ekkc1am_nonce=3h89v086h91oq\" --header=\"Connection: keep-alive\" \"https://doc-0o-3o-docs.googleusercontent.com/docs/securesc/c7h9tlgpbqilf9nmomrdtg90qdn0nlc3/mghjafha8me0srhbrb62kpc0c7ea6lam/1624794825000/00048055783660299439/13937806133259344158/1Ms3h7oNoWZxR0nnW_1D_Vq9F254wqSXp?e=download&authuser=0&nonce=3h89v086h91oq&user=13937806133259344158&hash=e9nhlj0bb0a4g204488rb7fdokjr00dq\" -c -O 'Marmot_data.zip'"
      ],
      "execution_count": null,
      "outputs": [
        {
          "output_type": "stream",
          "text": [
            "--2021-06-27 11:54:58--  https://doc-0o-3o-docs.googleusercontent.com/docs/securesc/c7h9tlgpbqilf9nmomrdtg90qdn0nlc3/mghjafha8me0srhbrb62kpc0c7ea6lam/1624794825000/00048055783660299439/13937806133259344158/1Ms3h7oNoWZxR0nnW_1D_Vq9F254wqSXp?e=download&authuser=0&nonce=3h89v086h91oq&user=13937806133259344158&hash=e9nhlj0bb0a4g204488rb7fdokjr00dq\n",
            "Resolving doc-0o-3o-docs.googleusercontent.com (doc-0o-3o-docs.googleusercontent.com)... 142.250.141.132, 2607:f8b0:4023:c0b::84\n",
            "Connecting to doc-0o-3o-docs.googleusercontent.com (doc-0o-3o-docs.googleusercontent.com)|142.250.141.132|:443... connected.\n",
            "HTTP request sent, awaiting response... 200 OK\n",
            "Length: unspecified [application/zip]\n",
            "Saving to: ‘Marmot_data.zip’\n",
            "\n",
            "Marmot_data.zip         [       <=>          ]  65.63M  42.1MB/s    in 1.6s    \n",
            "\n",
            "2021-06-27 11:55:00 (42.1 MB/s) - ‘Marmot_data.zip’ saved [68820548]\n",
            "\n"
          ],
          "name": "stdout"
        }
      ]
    },
    {
      "cell_type": "code",
      "metadata": {
        "id": "mHqRc0a3Ukvu"
      },
      "source": [
        "!unzip Marmot_data.zip"
      ],
      "execution_count": null,
      "outputs": []
    },
    {
      "cell_type": "code",
      "metadata": {
        "colab": {
          "base_uri": "https://localhost:8080/"
        },
        "id": "3hnLghf4Uutc",
        "outputId": "faff48c7-779a-4ad7-8000-b8f08c9e1944"
      },
      "source": [
        "from google.colab import drive\n",
        "drive.mount('/content/drive')"
      ],
      "execution_count": null,
      "outputs": [
        {
          "output_type": "stream",
          "text": [
            "Mounted at /content/drive\n"
          ],
          "name": "stdout"
        }
      ]
    },
    {
      "cell_type": "code",
      "metadata": {
        "id": "NC3iqOzPUzHu"
      },
      "source": [
        "import tensorflow as tf\n",
        "from tensorflow.keras import Sequential\n",
        "from tensorflow.keras.models import Model\n",
        "from tensorflow.keras.layers import BatchNormalization, Conv2D, MaxPooling2D, Activation, Dropout, Dense, Flatten, Input, Concatenate, UpSampling2D, Conv2DTranspose"
      ],
      "execution_count": null,
      "outputs": []
    },
    {
      "cell_type": "code",
      "metadata": {
        "id": "V_YDMggtU8bZ"
      },
      "source": [
        "def table_decoder(x, vgg19_pool3, vgg19_pool4):\n",
        "  x = Conv2D(512, (1,1), activation = 'relu', name = 'conv7_table')(x)\n",
        "  x = UpSampling2D((2,2), name = '2xconv7_table')(x)\n",
        "  x = Concatenate()([x,vgg19_pool4])\n",
        "  x = UpSampling2D((2,2), name = '2x_pool4_2xconv7_table')(x)\n",
        "  x = Concatenate()([x, vgg19_pool3])\n",
        "  x = UpSampling2D(size=(2,2))(x)\n",
        "  x = UpSampling2D(size=(2,2))(x)\n",
        "  x =  Conv2DTranspose(3,3, strides= 2 , padding = 'same', name = 'table_mask')(x)\n",
        "  return x"
      ],
      "execution_count": null,
      "outputs": []
    },
    {
      "cell_type": "code",
      "metadata": {
        "id": "h4aFew1LVESI"
      },
      "source": [
        "def column_decoder(x, vgg19_pool3, vgg19_pool4):\n",
        "  x = Conv2D(512, (1,1), activation='relu', name = 'conv7_column')(x)\n",
        "  x = Dropout(0.8)(x)\n",
        "  x = Conv2D(512, (1,1), activation='relu', name = 'conv8_column')(x)\n",
        "  x = UpSampling2D((2,2), name = '2xconv8_column')(x)\n",
        "  x = Concatenate()([x, vgg19_pool4])\n",
        "  x = UpSampling2D((2,2), name = '2x_pool4_2xconv8_column')(x)\n",
        "  x = Concatenate()([x, vgg19_pool3])\n",
        "  x = UpSampling2D(size=(2,2))(x)\n",
        "  x = UpSampling2D(size=(2,2))(x)\n",
        "  x =  Conv2DTranspose(3,3, strides=2, padding = 'same', name = 'column_mask')(x)\n",
        "  return x"
      ],
      "execution_count": null,
      "outputs": []
    },
    {
      "cell_type": "code",
      "metadata": {
        "colab": {
          "base_uri": "https://localhost:8080/"
        },
        "id": "-9svKKB8VGch",
        "outputId": "50108457-ccd8-4a66-dc6d-8255590c90ed"
      },
      "source": [
        "tf.keras.backend.clear_session()\n",
        "input = Input((256,256,3), name = 'input')\n",
        "vgg_19 = tf.keras.applications.VGG19(include_top=False, weights = 'imagenet', input_tensor=input)\n",
        "print(f'VGG19 ouput shape :{vgg_19.output_shape}')\n",
        "vgg19_pool3 = vgg_19.get_layer('block3_pool').output\n",
        "print(f'VGG19 pool3 layer output shape : {vgg19_pool3.shape}')\n",
        "vgg19_pool4 = vgg_19.get_layer('block4_pool').output\n",
        "print(f'VGG19 pool4 layer output shape : {vgg19_pool4.shape}')\n",
        "\n",
        "x = Conv2D(512, (1,1), activation='relu', name = 'block6_conv1')(vgg_19.output)\n",
        "x = Dropout(0.8)(x)\n",
        "x = Conv2D(512, (1,1), activation='relu', name = 'block6_conv2')(x)\n",
        "x = Dropout(0.8)(x)\n",
        "print(f'Shape of encoder output: {x.shape}')"
      ],
      "execution_count": null,
      "outputs": [
        {
          "output_type": "stream",
          "text": [
            "Downloading data from https://storage.googleapis.com/tensorflow/keras-applications/vgg19/vgg19_weights_tf_dim_ordering_tf_kernels_notop.h5\n",
            "80142336/80134624 [==============================] - 1s 0us/step\n",
            "VGG19 ouput shape :(None, 8, 8, 512)\n",
            "VGG19 pool3 layer output shape : (None, 32, 32, 256)\n",
            "VGG19 pool4 layer output shape : (None, 16, 16, 512)\n",
            "Shape of encoder output: (None, 8, 8, 512)\n"
          ],
          "name": "stdout"
        }
      ]
    },
    {
      "cell_type": "code",
      "metadata": {
        "id": "R0HHxqfoVI6U"
      },
      "source": [
        "table_mask = table_decoder(x, vgg19_pool3, vgg19_pool4)\n",
        "column_mask = column_decoder(x, vgg19_pool3, vgg19_pool4)"
      ],
      "execution_count": null,
      "outputs": []
    },
    {
      "cell_type": "code",
      "metadata": {
        "id": "Mwvi15iiVLen"
      },
      "source": [
        "model =  Model(inputs = input, outputs = [table_mask, column_mask], name = 'tablenet')"
      ],
      "execution_count": null,
      "outputs": []
    },
    {
      "cell_type": "code",
      "metadata": {
        "colab": {
          "base_uri": "https://localhost:8080/"
        },
        "id": "fmFPV3RYVNWl",
        "outputId": "e2e3857d-e30a-4490-de93-c7d239c8e278"
      },
      "source": [
        "model = load_model('/content/drive/MyDrive/Colab Notebooks/tablenet_new/model_148')"
      ],
      "execution_count": null,
      "outputs": [
        {
          "output_type": "stream",
          "text": [
            "WARNING:tensorflow:SavedModel saved prior to TF 2.5 detected when loading Keras model. Please ensure that you are saving the model with model.save() or tf.keras.models.save_model(), *NOT* tf.saved_model.save(). To confirm, there should be a file named \"keras_metadata.pb\" in the SavedModel directory.\n"
          ],
          "name": "stdout"
        }
      ]
    },
    {
      "cell_type": "code",
      "metadata": {
        "id": "Bjyxbb2NVPAP"
      },
      "source": [
        "def predict(filepath):\n",
        "  img = cv2.imread(filepath)\n",
        "  img = cv2.resize(img,(1024,1024), cv2.INTER_AREA)\n",
        "  img_256 = cv2.resize(img,(256,256), cv2.INTER_NEAREST)\n",
        "  if img_256.shape[2] == 4:\n",
        "    img_256 = cv2.cvtColor(img_256, cv2.COLOR_RGBA2RGB)\n",
        "  elif img_256.shape[2] == 1:\n",
        "    img_256 = cv2.cvtColor(img_256, cv2.COLOR_GRAY2RGB)\n",
        "  else:\n",
        "    img_256 = cv2.cvtColor(img_256, cv2.COLOR_BGR2RGB)\n",
        "  img_256 = np.expand_dims(img_256, axis = 0)\n",
        "  print('Predicting....')\n",
        "  pred_mask1, pred_mask2 = model.predict(img_256)\n",
        "\n",
        "  pred_tabmask = tf.argmax(pred_mask1, axis=-1)\n",
        "  pred_tabmask = pred_tabmask[..., tf.newaxis]\n",
        "  pred_colmask = tf.argmax(pred_mask2, axis=-1)\n",
        "  pred_colmask = pred_colmask[..., tf.newaxis]\n",
        "  pred_table_mask = pred_tabmask[0]\n",
        "  pred_column_mask = pred_colmask[0]\n",
        "\n",
        "  pred_table_mask = tf.keras.preprocessing.image.array_to_img(pred_table_mask)\n",
        "  pred_column_mask = tf.keras.preprocessing.image.array_to_img(pred_column_mask)\n",
        "  pred_table_mask = cv2.resize(np.array(pred_table_mask), (1024,1024), cv2.INTER_NEAREST)\n",
        "  pred_column_mask = cv2.resize(np.array(pred_column_mask), (1024,1024), cv2.INTER_NEAREST)\n",
        "  pred_table_mask = tf.keras.preprocessing.image.array_to_img(pred_table_mask[:,:,np.newaxis])\n",
        "  pred_column_mask = tf.keras.preprocessing.image.array_to_img(pred_column_mask[:,:,np.newaxis])\n",
        "\n",
        "  img_final = tf.keras.preprocessing.image.array_to_img(img)\n",
        "  img_final.putalpha(pred_table_mask)\n",
        "  print('Extracting text...')\n",
        "  text = pytesseract.image_to_string(img_final)\n",
        "  plt.figure(figsize = (10,10))\n",
        "  #plt.imshow(img)\n",
        "  plt.imshow(img_final)\n",
        "  plt.title('Detected Table')\n",
        "  plt.show()\n",
        "  if len(text) ==1:\n",
        "    print('No table is present in the image')\n",
        "  else:\n",
        "    print('The detected text is:')\n",
        "    print('\\n')\n",
        "    print(text)"
      ],
      "execution_count": null,
      "outputs": []
    },
    {
      "cell_type": "code",
      "metadata": {
        "colab": {
          "base_uri": "https://localhost:8080/",
          "height": 1000
        },
        "id": "rjTF1DoHVZqm",
        "outputId": "7f43d43d-26c4-4221-e342-98ad4507937c"
      },
      "source": [
        "predict('/content/10.1.1.1.2013_63.bmp')"
      ],
      "execution_count": null,
      "outputs": [
        {
          "output_type": "stream",
          "text": [
            "Predicting....\n",
            "Extracting text...\n"
          ],
          "name": "stdout"
        },
        {
          "output_type": "display_data",
          "data": {
            "image/png": "[encoded data removed]",
            "text/plain": [
              "<Figure size 720x720 with 1 Axes>"
            ]
          },
          "metadata": {
            "tags": [],
            "needs_background": "light"
          }
        },
        {
          "output_type": "stream",
          "text": [
            "The detected text is:\n",
            "\n",
            "\n",
            "Years\n",
            "\n",
            " \n",
            "\n",
            "tate 1990 1991 1992 1993 1994 199°\n",
            "setivity rate (15-64)\"*\n",
            "Urban Male 720 70.8 69.8 70.8 70.5 69.9\n",
            "Female 224 20.3 19.1 20.3 20.2 19.5\n",
            "Total 473 437 444 457 45.4 44.\n",
            "Rural Male 78.2 76.8 763 763 76.1 76.\n",
            "Female 34.7 29.3 26.1 24.0 25.4 234\n",
            "Total 56.4 53.0 50.8 50.2 51.0 49.7\n",
            "Total Male 753 74.0 73.2 73.7 735 73.\n",
            "Female 29.0 25.2 22.8 22.3 23.0 21.\n",
            "Total S24 49.6 478 48.1 4R4 aT\n",
            "mployment rate (15-64)**\n",
            "Urban Male 67.0 653 64.7 649 649 64.\n",
            "Female 16.8 15.4 143 14.6 14.6 14\n",
            "Total 424 40.5 39.5 39.9 39.8 39.\n",
            "Rural Male 74.5 72.4 718 709 70.7 70.\n",
            "Female 316 26.2 22.8 19.5 20.4 18.\n",
            "Total 33.0 493 46.9 433 45.8 44\n",
            "Total Male 710 69.4 68s 68.1 68.0 67.\n",
            "Female 24.7 244 18.9 172 177 16.\n",
            "Total 479 452 434 42.8 43.0 420\n",
            "employment Rate (15-64)**\n",
            "Urban Male 69 77 73 84 Te\n",
            "Female 24.8 244 249 279 274\n",
            "Total Ma 14 Ma 12.7 1s\n",
            "Toral Male a7 37 39 70 7\n",
            "Female 90 10.8 12.5 18.7 21\n",
            "Total 6.0 7 76 Os 10\n",
            "Toial Male 37 66 6S 76 7\n",
            "Female 147 15.9 173 22.7 24.\n",
            "Total 82 89 on ma rn\n",
            "\n",
            " \n",
            "\f\n"
          ],
          "name": "stdout"
        }
      ]
    },
    {
      "cell_type": "code",
      "metadata": {
        "colab": {
          "base_uri": "https://localhost:8080/",
          "height": 828
        },
        "id": "smx1-6ZCVdO-",
        "outputId": "72d9f01d-3a1d-4f77-ac78-4a87b1ee74ec"
      },
      "source": [
        "predict('/content/10.1.1.1.2006_3.bmp')"
      ],
      "execution_count": null,
      "outputs": [
        {
          "output_type": "stream",
          "text": [
            "Predicting....\n",
            "Extracting text...\n"
          ],
          "name": "stdout"
        },
        {
          "output_type": "display_data",
          "data": {
            "image/png": "[encoded data removed]",
            "text/plain": [
              "<Figure size 720x720 with 1 Axes>"
            ]
          },
          "metadata": {
            "tags": [],
            "needs_background": "light"
          }
        },
        {
          "output_type": "stream",
          "text": [
            "The detected text is:\n",
            "\n",
            "\n",
            "pectin\n",
            "0.0033 0.0930 =\n",
            "0.0033 0.0930 0.1768\n",
            "\n",
            " \n",
            "\n",
            "    \n",
            "\f\n"
          ],
          "name": "stdout"
        }
      ]
    },
    {
      "cell_type": "markdown",
      "metadata": {
        "id": "sop7Ai-FWBTc"
      },
      "source": [
        "Converting to Tflite"
      ]
    },
    {
      "cell_type": "code",
      "metadata": {
        "id": "sliF7jz_V_0u"
      },
      "source": [
        "def get_filesize(filepath):\n",
        "  size = 0\n",
        "  for f in os.listdir(filepath):\n",
        "    if 'model' in f:\n",
        "      size += os.path.getsize(os.path.join(filepath,f))\n",
        "    elif 'variables' in f:\n",
        "      new_path = os.path.join(filepath,f)\n",
        "      for _ in os.listdir(new_path):\n",
        "        size += os.path.getsize(os.path.join(new_path,_))\n",
        "  print('File Size : ' + str(round(size /(1024 *1024),3)) + ' MB')"
      ],
      "execution_count": null,
      "outputs": []
    },
    {
      "cell_type": "code",
      "metadata": {
        "colab": {
          "base_uri": "https://localhost:8080/"
        },
        "id": "ANVTUyHAWGjl",
        "outputId": "b35e2059-831e-424d-8ed0-34d5b6e1a6e7"
      },
      "source": [
        "get_filesize('/content/drive/MyDrive/Colab Notebooks/tablenet_new/model_148')"
      ],
      "execution_count": null,
      "outputs": [
        {
          "output_type": "stream",
          "text": [
            "File Size : 245.805 MB\n"
          ],
          "name": "stdout"
        }
      ]
    },
    {
      "cell_type": "code",
      "metadata": {
        "id": "NEMPkVPjvfGJ"
      },
      "source": [
        "def getsize_tflite(filepath):\n",
        "  size = os.path.getsize(filepath)\n",
        "  print('File Size : ' + str(round(size /(1024 *1024),3)) + ' MB')"
      ],
      "execution_count": null,
      "outputs": []
    },
    {
      "cell_type": "markdown",
      "metadata": {
        "id": "4AmujE5aWJF5"
      },
      "source": [
        "The original model is of size 245 MB"
      ]
    },
    {
      "cell_type": "code",
      "metadata": {
        "colab": {
          "base_uri": "https://localhost:8080/"
        },
        "id": "cH4WYNvwWISV",
        "outputId": "d9870321-461d-4279-d002-74dd7761c668"
      },
      "source": [
        "tf_lite_converter = tf.lite.TFLiteConverter.from_keras_model(model)\n",
        "tf_lite_converter.optimizations = [tf.lite.Optimize.OPTIMIZE_FOR_SIZE]\n",
        "tflite_model = tf_lite_converter.convert()"
      ],
      "execution_count": null,
      "outputs": [
        {
          "output_type": "stream",
          "text": [
            "INFO:tensorflow:Assets written to: /tmp/tmp9gtqh36c/assets\n"
          ],
          "name": "stdout"
        }
      ]
    },
    {
      "cell_type": "code",
      "metadata": {
        "colab": {
          "base_uri": "https://localhost:8080/"
        },
        "id": "_Z8oW_zJuxh-",
        "outputId": "e3779703-be42-45cd-b11c-5dffd7f2dbb5"
      },
      "source": [
        "open('tflite_model.tflite', 'wb').write(tflite_model)"
      ],
      "execution_count": null,
      "outputs": [
        {
          "output_type": "execute_result",
          "data": {
            "text/plain": [
              "21613552"
            ]
          },
          "metadata": {
            "tags": []
          },
          "execution_count": 25
        }
      ]
    },
    {
      "cell_type": "code",
      "metadata": {
        "colab": {
          "base_uri": "https://localhost:8080/"
        },
        "id": "Gjglg2kKvLgB",
        "outputId": "e8a7ec8c-c253-4445-9488-486565cfe84c"
      },
      "source": [
        "getsize_tflite('tflite_model.tflite')"
      ],
      "execution_count": null,
      "outputs": [
        {
          "output_type": "stream",
          "text": [
            "File Size : 20.612 MB\n"
          ],
          "name": "stdout"
        }
      ]
    },
    {
      "cell_type": "markdown",
      "metadata": {
        "id": "0Uvigf2Sv9bP"
      },
      "source": [
        "The size of the model is now reduced from 245 MB to 20.612 MB"
      ]
    },
    {
      "cell_type": "code",
      "metadata": {
        "id": "5gbxMzO7wNVF"
      },
      "source": [
        "import os.path\n",
        "from os import path"
      ],
      "execution_count": null,
      "outputs": []
    },
    {
      "cell_type": "code",
      "metadata": {
        "colab": {
          "base_uri": "https://localhost:8080/",
          "height": 17
        },
        "id": "6oRnmJ9mw44x",
        "outputId": "bd24fcd5-ee00-44be-a254-7bc5ba515e85"
      },
      "source": [
        "from google.colab import files\n",
        "files.download('tflite_model.tflite')"
      ],
      "execution_count": null,
      "outputs": [
        {
          "output_type": "display_data",
          "data": {
            "application/javascript": [
              "\n",
              "    async function download(id, filename, size) {\n",
              "      if (!google.colab.kernel.accessAllowed) {\n",
              "        return;\n",
              "      }\n",
              "      const div = document.createElement('div');\n",
              "      const label = document.createElement('label');\n",
              "      label.textContent = `Downloading \"${filename}\": `;\n",
              "      div.appendChild(label);\n",
              "      const progress = document.createElement('progress');\n",
              "      progress.max = size;\n",
              "      div.appendChild(progress);\n",
              "      document.body.appendChild(div);\n",
              "\n",
              "      const buffers = [];\n",
              "      let downloaded = 0;\n",
              "\n",
              "      const channel = await google.colab.kernel.comms.open(id);\n",
              "      // Send a message to notify the kernel that we're ready.\n",
              "      channel.send({})\n",
              "\n",
              "      for await (const message of channel.messages) {\n",
              "        // Send a message to notify the kernel that we're ready.\n",
              "        channel.send({})\n",
              "        if (message.buffers) {\n",
              "          for (const buffer of message.buffers) {\n",
              "            buffers.push(buffer);\n",
              "            downloaded += buffer.byteLength;\n",
              "            progress.value = downloaded;\n",
              "          }\n",
              "        }\n",
              "      }\n",
              "      const blob = new Blob(buffers, {type: 'application/binary'});\n",
              "      const a = document.createElement('a');\n",
              "      a.href = window.URL.createObjectURL(blob);\n",
              "      a.download = filename;\n",
              "      div.appendChild(a);\n",
              "      a.click();\n",
              "      div.remove();\n",
              "    }\n",
              "  "
            ],
            "text/plain": [
              "<IPython.core.display.Javascript object>"
            ]
          },
          "metadata": {
            "tags": []
          }
        },
        {
          "output_type": "display_data",
          "data": {
            "application/javascript": [
              "download(\"download_93817de9-8973-448b-aed5-f4d554116e78\", \"tflite_model.tflite\", 21613552)"
            ],
            "text/plain": [
              "<IPython.core.display.Javascript object>"
            ]
          },
          "metadata": {
            "tags": []
          }
        }
      ]
    },
    {
      "cell_type": "code",
      "metadata": {
        "id": "zsTKtOj2xMbd"
      },
      "source": [
        "tflite_interpreter = tf.lite.Interpreter(model_path='tflite_model.tflite')\n",
        "\n",
        "input_details = tflite_interpreter.get_input_details()\n",
        "output_details = tflite_interpreter.get_output_details()"
      ],
      "execution_count": null,
      "outputs": []
    },
    {
      "cell_type": "code",
      "metadata": {
        "colab": {
          "base_uri": "https://localhost:8080/"
        },
        "id": "CHC_StALyUh7",
        "outputId": "c8575951-158a-466c-b3fd-85d38bf03afe"
      },
      "source": [
        "print(\"== Input details ==\")\n",
        "print(\"name:\", input_details[0]['name'])\n",
        "print(\"shape:\", input_details[0]['shape'])\n",
        "print(\"type:\", input_details[0]['dtype'])"
      ],
      "execution_count": null,
      "outputs": [
        {
          "output_type": "stream",
          "text": [
            "== Input details ==\n",
            "name: input\n",
            "shape: [  1 256 256   3]\n",
            "type: <class 'numpy.float32'>\n"
          ],
          "name": "stdout"
        }
      ]
    },
    {
      "cell_type": "code",
      "metadata": {
        "colab": {
          "base_uri": "https://localhost:8080/"
        },
        "id": "XYcWAvhUydlN",
        "outputId": "1b11146a-cef3-4ac2-eeb3-c2167bca47cd"
      },
      "source": [
        "print(\"\\n== Output details ==\")\n",
        "print(\"name:\", output_details[0]['name'])\n",
        "print(\"shape:\", output_details[0]['shape'])\n",
        "print(\"type:\", output_details[0]['dtype'])"
      ],
      "execution_count": null,
      "outputs": [
        {
          "output_type": "stream",
          "text": [
            "\n",
            "== Output details ==\n",
            "name: Identity\n",
            "shape: [  1 256 256   3]\n",
            "type: <class 'numpy.float32'>\n"
          ],
          "name": "stdout"
        }
      ]
    },
    {
      "cell_type": "code",
      "metadata": {
        "colab": {
          "base_uri": "https://localhost:8080/"
        },
        "id": "us8q3uScPJ0i",
        "outputId": "92dc5a1a-5395-4d35-d3b6-481c34a2e5f6"
      },
      "source": [
        "print(\"\\n== Output details ==\")\n",
        "print(\"name:\", output_details[1]['name'])\n",
        "print(\"shape:\", output_details[1]['shape'])\n",
        "print(\"type:\", output_details[1]['dtype'])"
      ],
      "execution_count": null,
      "outputs": [
        {
          "output_type": "stream",
          "text": [
            "\n",
            "== Output details ==\n",
            "name: Identity_1\n",
            "shape: [  1 256 256   3]\n",
            "type: <class 'numpy.float32'>\n"
          ],
          "name": "stdout"
        }
      ]
    },
    {
      "cell_type": "code",
      "metadata": {
        "id": "XL-B79BtP-BE"
      },
      "source": [
        "def predict_lite(filepath):\n",
        "  img = cv2.imread(filepath)\n",
        "  img = cv2.resize(img,(1024,1024), cv2.INTER_AREA)\n",
        "  img_256 = cv2.resize(img,(256,256), cv2.INTER_NEAREST)\n",
        "  if img_256.shape[2] == 4:\n",
        "    img_256 = cv2.cvtColor(img_256, cv2.COLOR_RGBA2RGB)\n",
        "  elif img_256.shape[2] == 1:\n",
        "    img_256 = cv2.cvtColor(img_256, cv2.COLOR_GRAY2RGB)\n",
        "  else:\n",
        "    img_256 = cv2.cvtColor(img_256, cv2.COLOR_BGR2RGB)\n",
        "  img_256 = np.expand_dims(img_256, axis = 0)\n",
        "  img_256 = img_256.astype(np.float32)\n",
        "\n",
        "  print('Predicting....')\n",
        "  tflite_interpreter = tf.lite.Interpreter(model_path='tflite_model.tflite')\n",
        "  input_details = tflite_interpreter.get_input_details()\n",
        "  output_details = tflite_interpreter.get_output_details()\n",
        "  tflite_interpreter.allocate_tensors()\n",
        "  tflite_interpreter.set_tensor(input_details[0]['index'], img_256)\n",
        "  tflite_interpreter.invoke()\n",
        "\n",
        "  pred_mask1 = tflite_interpreter.get_tensor(output_details[0]['index'])\n",
        "  pred_mask2 = tflite_interpreter.get_tensor(output_details[1]['index'])\n",
        "  pred_tabmask = tf.argmax(pred_mask1, axis=-1)\n",
        "  pred_tabmask = pred_tabmask[..., tf.newaxis]\n",
        "  pred_colmask = tf.argmax(pred_mask2, axis=-1)\n",
        "  pred_colmask = pred_colmask[..., tf.newaxis]\n",
        "  pred_table_mask = pred_tabmask[0]\n",
        "  pred_column_mask = pred_colmask[0]\n",
        "  pred_table_mask = tf.keras.preprocessing.image.array_to_img(pred_table_mask)\n",
        "  pred_column_mask = tf.keras.preprocessing.image.array_to_img(pred_column_mask)\n",
        "  pred_table_mask = cv2.resize(np.array(pred_table_mask), (1024,1024), cv2.INTER_NEAREST)\n",
        "  pred_column_mask = cv2.resize(np.array(pred_column_mask), (1024,1024), cv2.INTER_NEAREST)\n",
        "  pred_table_mask = tf.keras.preprocessing.image.array_to_img(pred_table_mask[:,:,np.newaxis])\n",
        "  pred_column_mask = tf.keras.preprocessing.image.array_to_img(pred_column_mask[:,:,np.newaxis])\n",
        "  \n",
        "  img_final = tf.keras.preprocessing.image.array_to_img(img)\n",
        "  img_final.putalpha(pred_table_mask)\n",
        "  print('Extracting text...')\n",
        "  text = pytesseract.image_to_string(img_final)\n",
        "  plt.figure(figsize = (10,10))\n",
        "  #plt.imshow(img)\n",
        "  plt.imshow(img_final)\n",
        "  plt.title('Detected Table')\n",
        "  plt.show()\n",
        "  if len(text) ==1:\n",
        "    print('No table is present in the image')\n",
        "  else:\n",
        "    print('The detected text is:')\n",
        "    print('\\n')\n",
        "    print(text)"
      ],
      "execution_count": null,
      "outputs": []
    },
    {
      "cell_type": "code",
      "metadata": {
        "colab": {
          "base_uri": "https://localhost:8080/",
          "height": 862
        },
        "id": "nP58aUZckl8j",
        "outputId": "9218c70f-a1b0-4674-fab5-a7d776fcc0af"
      },
      "source": [
        "predict_lite('/content/10.1.1.1.2006_3.bmp')"
      ],
      "execution_count": null,
      "outputs": [
        {
          "output_type": "stream",
          "text": [
            "Predicting....\n",
            "Extracting text...\n"
          ],
          "name": "stdout"
        },
        {
          "output_type": "display_data",
          "data": {
            "image/png": "[encoded data removed]",
            "text/plain": [
              "<Figure size 720x720 with 1 Axes>"
            ]
          },
          "metadata": {
            "tags": [],
            "needs_background": "light"
          }
        },
        {
          "output_type": "stream",
          "text": [
            "The detected text is:\n",
            "\n",
            "\n",
            "petri\n",
            "0.0033 00930\n",
            "0.0033 0.0930 0.1768\n",
            "\n",
            " \n",
            "\n",
            " \n",
            "\n",
            " \n",
            "\f\n"
          ],
          "name": "stdout"
        }
      ]
    },
    {
      "cell_type": "code",
      "metadata": {
        "id": "OUvkpTlSkt64"
      },
      "source": [
        ""
      ],
      "execution_count": null,
      "outputs": []
    }
  ]
}